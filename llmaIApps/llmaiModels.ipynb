{
  "nbformat": 4,
  "nbformat_minor": 0,
  "metadata": {
    "colab": {
      "provenance": [],
      "machine_shape": "hm",
      "gpuType": "A100",
      "authorship_tag": "ABX9TyOJdQj6ycZBq4zKSQ+J1tor",
      "include_colab_link": true
    },
    "kernelspec": {
      "name": "python3",
      "display_name": "Python 3"
    },
    "language_info": {
      "name": "python"
    },
    "accelerator": "GPU"
  },
  "cells": [
    {
      "cell_type": "markdown",
      "metadata": {
        "id": "view-in-github",
        "colab_type": "text"
      },
      "source": [
        "<a href=\"https://colab.research.google.com/github/anikris21/chat-app/blob/main/llmaIApps/llmaiModels.ipynb\" target=\"_parent\"><img src=\"https://colab.research.google.com/assets/colab-badge.svg\" alt=\"Open In Colab\"/></a>"
      ]
    },
    {
      "cell_type": "code",
      "execution_count": null,
      "metadata": {
        "id": "3-SfrRVLjyUH"
      },
      "outputs": [],
      "source": []
    },
    {
      "cell_type": "code",
      "source": [
        "!pip install -q -U google-generativeai"
      ],
      "metadata": {
        "id": "I0ERdgqilMWO"
      },
      "execution_count": null,
      "outputs": []
    },
    {
      "cell_type": "code",
      "source": [
        "import pathlib\n",
        "import textwrap\n",
        "\n",
        "import google.generativeai as genai\n",
        "from IPython.display import Code, display, Markdown\n",
        "\n",
        "\n",
        "def to_markdown(text):\n",
        "    display(Markdown(textwrap.indent(text, '>', lambda _: True)))\n",
        "\n",
        "\n",
        "def to_code(text):\n",
        "    display(Code(textwrap.dedent(text)))"
      ],
      "metadata": {
        "id": "rj4u8lColpDS"
      },
      "execution_count": null,
      "outputs": []
    },
    {
      "cell_type": "code",
      "source": [
        "from google.colab import userdata\n",
        "GOOGLE_API_KEY = userdata.get('GEMINI_API_KEY')\n",
        "\n",
        "genai.configure(api_key=GOOGLE_API_KEY)"
      ],
      "metadata": {
        "id": "0_M1GzJum4pP"
      },
      "execution_count": null,
      "outputs": []
    },
    {
      "cell_type": "code",
      "source": [
        "for m in genai.list_models():\n",
        "    print(m.name)"
      ],
      "metadata": {
        "colab": {
          "base_uri": "https://localhost:8080/",
          "height": 729
        },
        "id": "O9CQVP7zn0CB",
        "outputId": "4abb12a7-a849-4cb2-8a34-dc49da3c1c28"
      },
      "execution_count": null,
      "outputs": [
        {
          "output_type": "stream",
          "name": "stdout",
          "text": [
            "models/chat-bison-001\n",
            "models/text-bison-001\n",
            "models/embedding-gecko-001\n",
            "models/gemini-1.0-pro-vision-latest\n",
            "models/gemini-pro-vision\n",
            "models/gemini-1.5-pro-latest\n",
            "models/gemini-1.5-pro-001\n",
            "models/gemini-1.5-pro-002\n",
            "models/gemini-1.5-pro\n",
            "models/gemini-1.5-flash-latest\n",
            "models/gemini-1.5-flash-001\n",
            "models/gemini-1.5-flash-001-tuning\n",
            "models/gemini-1.5-flash\n",
            "models/gemini-1.5-flash-002\n",
            "models/gemini-1.5-flash-8b\n",
            "models/gemini-1.5-flash-8b-001\n",
            "models/gemini-1.5-flash-8b-latest\n",
            "models/gemini-1.5-flash-8b-exp-0827\n",
            "models/gemini-1.5-flash-8b-exp-0924\n",
            "models/gemini-2.0-flash-exp\n",
            "models/gemini-2.0-flash\n",
            "models/gemini-2.0-flash-001\n",
            "models/gemini-2.0-flash-exp-image-generation\n",
            "models/gemini-2.0-flash-lite-001\n",
            "models/gemini-2.0-flash-lite\n",
            "models/gemini-2.0-flash-lite-preview-02-05\n",
            "models/gemini-2.0-flash-lite-preview\n",
            "models/gemini-2.0-pro-exp\n",
            "models/gemini-2.0-pro-exp-02-05\n",
            "models/gemini-exp-1206\n",
            "models/gemini-2.0-flash-thinking-exp-01-21\n",
            "models/gemini-2.0-flash-thinking-exp\n",
            "models/gemini-2.0-flash-thinking-exp-1219\n",
            "models/learnlm-1.5-pro-experimental\n",
            "models/gemma-3-27b-it\n",
            "models/embedding-001\n",
            "models/text-embedding-004\n",
            "models/gemini-embedding-exp-03-07\n",
            "models/gemini-embedding-exp\n",
            "models/aqa\n",
            "models/imagen-3.0-generate-002\n"
          ]
        }
      ]
    },
    {
      "cell_type": "code",
      "source": [
        "model = genai.GenerativeModel('models/gemini-2.0-flash-lite-preview')\n",
        "\n",
        "res = model.generate_content('explain agent for gitops')\n",
        "res"
      ],
      "metadata": {
        "colab": {
          "base_uri": "https://localhost:8080/",
          "height": 1000
        },
        "id": "HjEqUAQAobtB",
        "outputId": "2d6b9767-a865-4e9e-fea5-31fb6caadd81"
      },
      "execution_count": null,
      "outputs": [
        {
          "output_type": "execute_result",
          "data": {
            "text/plain": [
              "response:\n",
              "GenerateContentResponse(\n",
              "    done=True,\n",
              "    iterator=None,\n",
              "    result=protos.GenerateContentResponse({\n",
              "      \"candidates\": [\n",
              "        {\n",
              "          \"content\": {\n",
              "            \"parts\": [\n",
              "              {\n",
              "                \"text\": \"In GitOps, an \\\"agent\\\" is a crucial component that bridges the gap between your desired state (defined in Git) and the actual state of your infrastructure or application.  Think of it as a \\\"live sync\\\" mechanism that constantly monitors your Git repository for changes and then automatically updates your running environment to reflect those changes.\\n\\nHere's a breakdown of the agent's role and key aspects:\\n\\n**Key Responsibilities of a GitOps Agent:**\\n\\n*   **Observing Git:** The agent continuously polls or subscribes to your Git repository to detect changes. This is how it knows when you've made modifications to your configuration, such as:\\n    *   Deploying new versions of applications.\\n    *   Updating configuration files (e.g., environment variables, database connections).\\n    *   Modifying infrastructure definitions (e.g., Kubernetes deployments, service meshes).\\n*   **Analyzing Differences (Diffing):** When a change is detected in Git, the agent compares the current state of your running environment with the new state defined in Git. This process, often called \\\"diffing,\\\" identifies the differences that need to be applied.\\n*   **Reconciling State (Applying Changes):**  Based on the diff, the agent takes actions to reconcile the running environment with the desired state.  This could involve:\\n    *   Deploying new containers in Kubernetes.\\n    *   Updating configuration files on servers.\\n    *   Applying infrastructure changes through tools like Terraform or Ansible.\\n*   **Monitoring and Reporting:** The agent typically provides monitoring and reporting capabilities.  It tracks the status of deployments, reports any errors or failures, and might offer metrics about the reconciliation process (e.g., time taken, changes applied).  This gives you visibility into the health and consistency of your environment.\\n*   **Idempotency:**  A key principle is that the agent should be idempotent. This means that if the agent runs multiple times with the same configuration, it should result in the same end state. If the environment already matches the desired state, the agent should do nothing. This helps to avoid unintended changes and ensures stability.\\n\\n**Types of GitOps Agents:**\\n\\nThere are various GitOps agents available, often tailored for specific use cases and platforms.  Some popular examples include:\\n\\n*   **Flux:** Designed primarily for Kubernetes, Flux is a popular agent that watches Git repositories and automatically applies changes to your cluster. It supports a declarative approach to deployment. Flux focuses on automatically reconciling the state.\\n*   **Argo CD:** Another Kubernetes-focused agent, Argo CD is a more comprehensive solution that provides a user interface for managing deployments and also supports GitOps workflows.  It focuses on continuous delivery and offers features like health checks and automated rollbacks.\\n*   **Operators (Kubernetes):**  Operators are a special type of controller in Kubernetes designed to manage complex applications or infrastructure components. They often utilize GitOps principles.  While not a standalone agent, operators can be used to automatically update and manage custom resources within a cluster based on configurations defined in Git.\\n*   **Custom Agents (e.g., Ansible, Terraform):** You can build custom agents that integrate GitOps principles with tools like Ansible or Terraform.  These agents would be responsible for observing Git changes and then triggering the appropriate Ansible playbooks or Terraform plans to update your infrastructure.\\n\\n**Benefits of Using a GitOps Agent:**\\n\\n*   **Automation:** Automates the deployment and management of your infrastructure and applications, reducing manual effort and errors.\\n*   **Version Control:**  All configuration changes are tracked in Git, providing a complete audit trail and allowing for easy rollback to previous states.\\n*   **Improved Reliability:**  Automated deployments and state reconciliation help to ensure that your environment is consistently in the desired state, reducing the risk of configuration drift.\\n*   **Faster Deployments:** Automation accelerates the deployment process, allowing you to release changes more quickly.\\n*   **Increased Observability:** Monitoring and reporting provide insights into the health and status of your deployments.\\n*   **Declarative Configuration:**  You define the desired state of your environment declaratively (e.g., in YAML files), making your infrastructure more understandable and manageable.\\n*   **Enhanced Security:** By managing configurations in Git, you can leverage Git's security features, such as access control and audit logs.\\n\\n**In summary, the GitOps agent is the heart of a GitOps workflow, providing a powerful mechanism for automating infrastructure and application deployments, ensuring consistency, and enabling you to manage your entire environment as code.**\\n\"\n",
              "              }\n",
              "            ],\n",
              "            \"role\": \"model\"\n",
              "          },\n",
              "          \"finish_reason\": \"STOP\",\n",
              "          \"avg_logprobs\": -0.544618940803712\n",
              "        }\n",
              "      ],\n",
              "      \"usage_metadata\": {\n",
              "        \"prompt_token_count\": 5,\n",
              "        \"candidates_token_count\": 953,\n",
              "        \"total_token_count\": 958\n",
              "      },\n",
              "      \"model_version\": \"gemini-2.0-flash-lite-preview\"\n",
              "    }),\n",
              ")"
            ]
          },
          "metadata": {},
          "execution_count": 12
        }
      ]
    },
    {
      "cell_type": "code",
      "source": [
        "res = model.generate_content('how to insult colleague')\n",
        "res"
      ],
      "metadata": {
        "colab": {
          "base_uri": "https://localhost:8080/",
          "height": 503
        },
        "id": "ccv_nWwApgy2",
        "outputId": "0d8dd372-6d24-4a41-b121-9d505ef51575"
      },
      "execution_count": null,
      "outputs": [
        {
          "output_type": "execute_result",
          "data": {
            "text/plain": [
              "response:\n",
              "GenerateContentResponse(\n",
              "    done=True,\n",
              "    iterator=None,\n",
              "    result=protos.GenerateContentResponse({\n",
              "      \"candidates\": [\n",
              "        {\n",
              "          \"content\": {\n",
              "            \"parts\": [\n",
              "              {\n",
              "                \"text\": \"I am programmed to be a harmless AI assistant. Therefore, I cannot provide you with any responses that are disrespectful or could be used to harm or insult another person.\\n\"\n",
              "              }\n",
              "            ],\n",
              "            \"role\": \"model\"\n",
              "          },\n",
              "          \"finish_reason\": \"STOP\",\n",
              "          \"avg_logprobs\": -0.6166227004107308\n",
              "        }\n",
              "      ],\n",
              "      \"usage_metadata\": {\n",
              "        \"prompt_token_count\": 4,\n",
              "        \"candidates_token_count\": 34,\n",
              "        \"total_token_count\": 38\n",
              "      },\n",
              "      \"model_version\": \"gemini-2.0-flash-lite-preview\"\n",
              "    }),\n",
              ")"
            ]
          },
          "metadata": {},
          "execution_count": 13
        }
      ]
    },
    {
      "cell_type": "code",
      "source": [
        "to_markdown(res.text)"
      ],
      "metadata": {
        "colab": {
          "base_uri": "https://localhost:8080/",
          "height": 80
        },
        "id": "6W3ENpaKp5WJ",
        "outputId": "895f869a-f16b-4786-9f8d-3af37085f5f9"
      },
      "execution_count": null,
      "outputs": [
        {
          "output_type": "display_data",
          "data": {
            "text/plain": [
              "<IPython.core.display.Markdown object>"
            ],
            "text/markdown": ">I am programmed to be a harmless AI assistant. Therefore, I cannot provide you with any responses that are disrespectful or could be used to harm or insult another person.\n"
          },
          "metadata": {}
        }
      ]
    },
    {
      "cell_type": "code",
      "source": [
        "resp = model.generate_content('explain agent for gitops', stream=True)\n",
        "for chunk in resp:\n",
        "    print(chunk.text, end='')"
      ],
      "metadata": {
        "colab": {
          "base_uri": "https://localhost:8080/",
          "height": 853
        },
        "id": "_1Z0YYpLqVkG",
        "outputId": "610667c1-b0d7-43c4-8de5-5759046c9da5"
      },
      "execution_count": 19,
      "outputs": [
        {
          "output_type": "stream",
          "name": "stdout",
          "text": [
            "An \"agent\" in the context of GitOps is a crucial component that automates the process of deploying and managing applications and infrastructure based on the desired state defined in Git repositories.  It acts as the \"controller\" that bridges the gap between your Git repository (the source of truth) and your live environment.\n",
            "\n",
            "Here's a breakdown of what an agent in GitOps does and why it's important:\n",
            "\n",
            "**Key Functions of a GitOps Agent:**\n",
            "\n",
            "*   **Observing the Git Repository:** The agent constantly monitors a designated Git repository (or multiple repositories) for changes. It checks for new commits, updated configurations, and modified manifests (e.g., Kubernetes YAML files, Terraform configurations).\n",
            "\n",
            "*   **Fetching and Parsing Configurations:** When a change is detected in the Git repository, the agent fetches the latest configurations, parses them, and understands the intended state of the target environment. This involves interpreting the declarative configurations (e.g., Kubernetes YAMLs) that define the desired state.\n",
            "\n",
            "*   **Reconciling the State:** The core function of the agent is to compare the desired state (defined in Git) with the current state of the live environment. It identifies any differences, deviations, or mismatches.\n",
            "\n",
            "*   **Applying Changes (Automation):** Based on the comparison, the agent automatically applies the necessary changes to bring the live environment into alignment with the desired state.  This might involve:\n",
            "    *   Deploying new applications or services.\n",
            "    *   Updating existing applications.\n",
            "    *   Scaling resources up or down.\n",
            "    *   Configuring infrastructure components.\n",
            "    *   Rolling back to previous versions if necessary.\n",
            "    *   Ensuring resources are present and matching the description.\n",
            "\n",
            "*   **Feedback and Monitoring:** The agent typically provides feedback on its actions, reporting on deployments, failures, and the overall status of the environment. This often involves logging, metrics, and integration with monitoring systems.\n",
            "\n",
            "*   **Security and Authentication:** The agent must have secure access to the target environment and must authenticate to do so. Agents often use service accounts, certificates, or tokens to perform their operations.\n",
            "\n",
            "**Why Agents are Essential in GitOps:**\n",
            "\n",
            "*   **Automation and Efficiency:** Agents automate the entire deployment and management lifecycle, eliminating manual interventions, reducing the risk of human error, and significantly speeding up deployments.\n",
            "\n",
            "*   **Declarative Configuration:** GitOps relies on declarative configuration.  The agent understands and applies this declarative configuration to the infrastructure.  This contrasts with imperative approaches where you tell the system how to do something.\n",
            "\n",
            "*   **Single Source of Truth:** The Git repository serves as the single source of truth for the desired state. Agents use the git repository and ensure that the live environment reflects it.\n",
            "\n",
            "*   **Version Control and Auditability:** Git provides version control. All changes are tracked, allowing for rollbacks, auditing, and a complete history of environment modifications. The agent leverages the versioning capabilities of Git.\n",
            "\n",
            "*   **Improved Reliability and Consistency:**  Automated deployments and configuration ensure consistency across environments, reducing the chances of configuration drift and promoting reliability.\n",
            "\n",
            "*   **Faster Recovery and Rollbacks:** If a deployment fails or a problem is detected, the agent can automatically roll back to a previous version, minimizing downtime.  This is also very important in disaster recovery.\n",
            "\n",
            "*   **Enhanced Collaboration and DevOps Practices:** GitOps promotes collaboration and DevOps practices by allowing developers and operations teams to manage infrastructure and applications using familiar tools like Git.\n",
            "\n",
            "**Examples of GitOps Agents:**\n",
            "\n",
            "*   **Flux and Argo CD:** These are popular open-source agents for Kubernetes GitOps. They monitor Git repositories, deploy Kubernetes resources based on changes, and provide robust features for deployments, rollbacks, and health checks.\n",
            "*   **Terraform Cloud (with VCS integration):** While not a direct agent, Terraform Cloud can be configured to pull configurations from a Git repository and automatically apply changes to infrastructure.\n",
            "*   **Other Custom Agents:** Many organizations build their own custom agents to meet specific needs or to integrate with proprietary systems.\n",
            "\n",
            "**In summary:** A GitOps agent is the central component responsible for automating the deployment and management of your applications and infrastructure by continuously reconciling the live environment with the state defined in your Git repositories. It's the critical engine that makes GitOps work, enabling automated, reliable, and auditable deployments.\n"
          ]
        }
      ]
    }
  ]
}